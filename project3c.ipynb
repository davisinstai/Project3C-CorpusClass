{
 "cells": [
  {
   "cell_type": "markdown",
   "metadata": {},
   "source": [
    "# Project 3c: Goals and Deliverables"
   ]
  },
  {
   "cell_type": "markdown",
   "metadata": {},
   "source": [
    "The goals of this assignment are:\n",
    "* To develop an object oriented version of our corpus code, focusing on writing the most concise readable code possible.\n",
    "\n",
    "Here are the steps you should do to successfully complete this project:\n",
    "1. From moodle, accept the assignment. Open and set up a code space (install a python kernel and select it).\n",
    "2. Complete the notebook and commit it to Github. Make sure to answer all questions, and to commit the notebook in a \"run\" state!\n",
    "3. I wrote the comments; you write the code! Complete and run `spacy_on_corpus.py` following the instructions in this notebook.\n",
    "4. Edit the README.md file. Provide your name, your class year, links to/descriptions of any extensions and a list of resources. \n",
    "5. Commit your code often. We will take the last commit before the deadline as your submission of the project.\n",
    "\n",
    "Possible extensions (from least points to most points):\n",
    "\n",
    "* Add one other type of corpus or document visualization or statistic.\n",
    "* Modify the token, entity, and noun chunk functions so they count only lower cased tokens, entities and noun chunks.\n",
    "* the `collections` package in python has a counter class. Copy `spacy_on_corpus.py` to `spacy_on_corpus_collections.py`. Try using that class instead. Time the execution of the test code for counter in section **Test the Counter Class** below. Which is faster: your counter class, or the one in collections?\n",
    "* Copy `spacy_on_corpus.py` to `spacy_on_corpus_document.py`. In the new file, make a document class. Move the methods `render_doc_markdown`, `render_doc_table` and `render_doc_statistics` to the document class. Test it.\n",
    "* We can currently represent tokens, entities and sentences. Use the span class we developed this week in class to implement a representation of paragraphs. Add a list of paragraph spans to each document. Add summary statistics about paragraphs to `get_basic_statistics`.\n",
    "* Your other ideas are welcome! If you'd like to discuss one with Dr Stent, feel free."
   ]
  },
  {
   "cell_type": "markdown",
   "metadata": {},
   "source": [
    "# Setup"
   ]
  },
  {
   "cell_type": "markdown",
   "metadata": {},
   "source": [
    "## Install Our Packages\n",
    "\n",
    "On the command line (in the terminal), type:\n",
    "\n",
    "% `pip install -r requirements.txt`"
   ]
  },
  {
   "cell_type": "markdown",
   "metadata": {},
   "source": [
    "## Upload Our Data\n",
    "\n",
    "From Moodle, download `files.jsonl.zip`. \n",
    "\n",
    "Then, upload `files.jsonl.zip` to the code space."
   ]
  },
  {
   "cell_type": "markdown",
   "metadata": {},
   "source": [
    "## Make Sure We Can Work With .py Files We Are Editing\n",
    "\n",
    "Run the code cell below."
   ]
  },
  {
   "cell_type": "code",
   "execution_count": null,
   "metadata": {},
   "outputs": [],
   "source": [
    "# Automatically reload your external source code\n",
    "%load_ext autoreload\n",
    "%autoreload 2"
   ]
  },
  {
   "cell_type": "markdown",
   "metadata": {},
   "source": [
    "# The Counter Class\n",
    "\n",
    "First, we implement a counter class to abstract away that counter code we keep writing.\n",
    "\n",
    "The counter class has a constructor, a setter (`add_item`), a getter (`get_counts`), and one other method,  `reduce_to_top_k`. \n",
    "\n",
    "Complete the implementation of the methods in this class using the doc strings and comments provided. "
   ]
  },
  {
   "cell_type": "markdown",
   "metadata": {},
   "source": [
    "## Test the Counter Class\n",
    "\n",
    "In the code cell below:\n",
    "\n",
    "1. make a counter from this list of items: `['Mary', 'had', 'a', 'little', 'lamb', '.', 'It', '\\'s', 'fleece', 'was', 'white', 'as', 'snow', '.', 'And', 'everywhere', 'that', 'Mary', 'went', ',', 'the', 'little', 'lamb', 'would', 'go', '.']`\n",
    "2. add these items to the counter: `['Little', 'lambs', 'are', 'cute', '.']`\n",
    "3. print the counts\n",
    "4. reduce the counts to the top 5\n",
    "5. print the counts"
   ]
  },
  {
   "cell_type": "code",
   "execution_count": null,
   "metadata": {},
   "outputs": [],
   "source": [
    "from spacy_on_corpus import counter"
   ]
  },
  {
   "cell_type": "markdown",
   "metadata": {},
   "source": [
    "Your output should look like:\n",
    "```\n",
    "[('Mary', 2), ('had', 1), ('a', 1), ('little', 2), ('lamb', 2), ('.', 4), ('It', 1), (\"'s\", 1), ('fleece', 1), ('was', 1), ('white', 1), ('as', 1), ('snow', 1), ('And', 1), ('everywhere', 1), ('that', 1), ('went', 1), (',', 1), ('the', 1), ('would', 1), ('go', 1), ('Little', 1), ('lambs', 1), ('are', 1), ('cute', 1)]\n",
    "[('Mary', 2), ('little', 2), ('lamb', 2), ('.', 4)]\n",
    "```"
   ]
  },
  {
   "cell_type": "markdown",
   "metadata": {},
   "source": [
    "# The Corpus Class\n",
    "\n",
    "Next, we implement a corpus class. \n",
    "\n",
    "The corpus class has a constructor, several getters and setters, and methods corresponding to each function from project 3b.\n",
    "\n",
    "Complete the implementation of the methods in this class using the doc strings and comments provided.\n",
    "\n",
    "\n"
   ]
  },
  {
   "cell_type": "markdown",
   "metadata": {},
   "source": [
    "## Test the Corpus Class Getters and Setters\n",
    "\n",
    "In the code cell below:\n",
    "\n",
    "1. make a corpus from `test.jsonl`\n",
    "2. print the corpus name\n",
    "3. use `get_document` to get the document corresponding to id `1`; print it\n",
    "4. use `get_metadata` to get the metadata corresponding to id `1`; print it\n",
    "5. add a document to the corpus using `add_document`; provide id `'3'` and a spaCy document with the text 'This is a third document!'\n",
    "6. print the number of documents in this corpus, using `get_documents` to get the documents\n",
    "7. print the number of metadatas in this corpus, using `get_metadatas` to get the metadatas\n"
   ]
  },
  {
   "cell_type": "code",
   "execution_count": null,
   "metadata": {},
   "outputs": [],
   "source": [
    "from spacy_on_corpus import corpus"
   ]
  },
  {
   "cell_type": "markdown",
   "metadata": {},
   "source": [
    "Your output should look like:\n",
    "```\n",
    "test.jsonl\n",
    "Autumn in Maine is really beautiful. The leaves fall from the trees, exposing the sky and the iconic Maine rocks. People go leaf peeping or apple picking, or sit around a campfire in the evenings.\n",
    "{'author': 'Amanda Stent', 'fullText': 'Autumn in Maine is really beautiful. The leaves fall from the trees, exposing the sky and the iconic Maine rocks. People go leaf peeping or apple picking, or sit around a campfire in the evenings.', 'publicationYear': 2023, 'pageCount': 1, 'docType': 'paragraph', 'id': '1'}\n",
    "documents:  3\n",
    "metadatas:  3\n",
    "```"
   ]
  },
  {
   "cell_type": "markdown",
   "metadata": {},
   "source": [
    "## Test the Corpus Class Methods for Getting Token, Entity, Noun Chunk and Metadata Counts\n",
    "\n",
    "In the code cell below:\n",
    "\n",
    "1. print the number of unique tokens in this corpus\n",
    "2. print the number of unique entities in this corpus\n",
    "3. print the number of unique noun chunks in this corpus\n",
    "4. print the number of unique page counts in this corpus\n",
    "5. print the number of unique publication years in this corpus"
   ]
  },
  {
   "cell_type": "code",
   "execution_count": null,
   "metadata": {},
   "outputs": [],
   "source": []
  },
  {
   "cell_type": "markdown",
   "metadata": {},
   "source": [
    "Your output should look like:\n",
    "```\n",
    "token counts:  56\n",
    "entity counts:  4\n",
    "noun chunk counts:  20\n",
    "pageCount counts:  1\n",
    "publicationYear counts:  1\n",
    "```"
   ]
  },
  {
   "cell_type": "markdown",
   "metadata": {},
   "source": [
    "## Test the Corpus Class Statistical Analysis and Visualization Methods\n",
    "\n",
    "In the code cell below, call these methods using the default tags to exclude:\n",
    "\n",
    "1. `get_basic_statistics`\n",
    "2. `plot_token_frequencies`, `plot_entity_frequencies`, `plot_noun_chunk_frequencies`, `plot_metadata_frequencies` (use the key 'pageCount')\n",
    "3. `plot_token_cloud`, `plot_entity_cloud`, `plot_noun_chunk_cloud`"
   ]
  },
  {
   "cell_type": "code",
   "execution_count": null,
   "metadata": {},
   "outputs": [],
   "source": []
  },
  {
   "cell_type": "markdown",
   "metadata": {},
   "source": [
    "Your output should look like:\n",
    "```\n",
    "Documents: 3\n",
    "\n",
    "Sentences: 8\n",
    "\n",
    "Tokens: 83\n",
    "\n",
    "Unique tokens: 56\n",
    "\n",
    "Entities: 6\n",
    "\n",
    "Unique entities: 4\n",
    "\n",
    "Chunks: 22\n",
    "\n",
    "Unique chunks: 20\n",
    "\n",
    "Publication year range: 2023-2023\n",
    "\n",
    "Page count year range: 1-1\n",
    "```\n",
    "\n",
    "You can compare your output plots to those in the answer files."
   ]
  },
  {
   "cell_type": "markdown",
   "metadata": {},
   "source": [
    "## Test the Corpus Class Document Visualization Methods\n",
    "\n",
    "In the code cell below, call these methods on the document with id `1`:\n",
    "\n",
    "1. `render_doc_markdown`\n",
    "2. `render_doc_table`\n",
    "3. `render_doc_statistics`"
   ]
  },
  {
   "cell_type": "code",
   "execution_count": null,
   "metadata": {},
   "outputs": [],
   "source": []
  },
  {
   "cell_type": "markdown",
   "metadata": {},
   "source": [
    "Compare your output to that in the answer files."
   ]
  },
  {
   "cell_type": "markdown",
   "metadata": {},
   "source": [
    "# Test Main\n",
    "\n",
    "Update the `main` function to create a corpus object and use the corpus methods.\n",
    "\n",
    "On the command line, run `spacy_on_corpus.py` on `files.jsonl.zip`. Get all outputs:\n",
    "\n",
    "* basic statistics: *paste here*\n",
    "* token, entity, noun chunk and metadata counts (for publication year)\n",
    "* token, entity and noun chunk word clouds\n",
    "* document markdown, table and statistics for the document with id `ark://27927/phz35174v0z`"
   ]
  },
  {
   "cell_type": "markdown",
   "metadata": {},
   "source": [
    "# Questions"
   ]
  },
  {
   "cell_type": "markdown",
   "metadata": {},
   "source": [
    "Answer these questions.\n",
    "\n",
    "1. *How many attributes are defined in the corpus class definition?*\n",
    "2. *Which are instance attributes and which are method attributes?*\n",
    "3. *Where does the corpus itself get stored?*\n",
    "4. *List the class methods defined for the corpus class.*\n",
    "5. *What is the type of all the other methods in the corpus class?*\n",
    "6. *How does the counter class help us implement the corpus class?*\n",
    "7. *What methods does counter have that it inherits from dict? (use `help`)*\n",
    "8. *In `spacy_on_corpus.py`, redefine one of the methods that counter has that it inherits from dict. Tell us which one here:*\n",
    "9. *Why is it good for `nlp` to be shared among all the corpora?*\n",
    "10. *List one thing about object oriented programming that you find clear and useful, and one thing you find difficult or not useful:*\n",
    "    * *clear and useful:*\n",
    "    * *not clear or not useful:*"
   ]
  },
  {
   "cell_type": "markdown",
   "metadata": {},
   "source": []
  }
 ],
 "metadata": {
  "kernelspec": {
   "display_name": "Python 3 (ipykernel)",
   "language": "python",
   "name": "python3"
  },
  "language_info": {
   "codemirror_mode": {
    "name": "ipython",
    "version": 3
   },
   "file_extension": ".py",
   "mimetype": "text/x-python",
   "name": "python",
   "nbconvert_exporter": "python",
   "pygments_lexer": "ipython3",
   "version": "3.10.8"
  }
 },
 "nbformat": 4,
 "nbformat_minor": 2
}
